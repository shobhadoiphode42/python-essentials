{
 "cells": [
  {
   "cell_type": "code",
   "execution_count": 2,
   "metadata": {},
   "outputs": [
    {
     "name": "stdout",
     "output_type": "stream",
     "text": [
      "30\n"
     ]
    }
   ],
   "source": [
    "def func1(a,b):\n",
    "    c=a+b\n",
    "    print(c)\n",
    "func1(10,20)"
   ]
  },
  {
   "cell_type": "code",
   "execution_count": 3,
   "metadata": {},
   "outputs": [
    {
     "name": "stdout",
     "output_type": "stream",
     "text": [
      "40\n"
     ]
    }
   ],
   "source": [
    "def func1(a,b):\n",
    "    c=a+b\n",
    "    return c\n",
    "res=func1(10,20)+10\n",
    "print(res)"
   ]
  },
  {
   "cell_type": "code",
   "execution_count": 8,
   "metadata": {},
   "outputs": [
    {
     "name": "stdout",
     "output_type": "stream",
     "text": [
      "abc 20 80\n",
      "xyz 30 60\n"
     ]
    }
   ],
   "source": [
    "def func1(name,age=30, marks=60):\n",
    "    print(name,age,marks)\n",
    "func1(\"abc\",20,80)\n",
    "func1(\"xyz\")"
   ]
  },
  {
   "cell_type": "code",
   "execution_count": 12,
   "metadata": {},
   "outputs": [
    {
     "name": "stdout",
     "output_type": "stream",
     "text": [
      "12 ()\n",
      "10 (20,)\n",
      "4 (5, 1, 6, 9, 4)\n"
     ]
    }
   ],
   "source": [
    "def fun1(a,*args):\n",
    "    print(a,args)\n",
    "fun1(12)\n",
    "fun1(10,20)\n",
    "fun1(4,5,1,6,9,4)"
   ]
  },
  {
   "cell_type": "code",
   "execution_count": 14,
   "metadata": {},
   "outputs": [
    {
     "name": "stdout",
     "output_type": "stream",
     "text": [
      "{'name': 'xyz', 'marks': 70}\n"
     ]
    }
   ],
   "source": [
    "def fun1(**kwargs):\n",
    "    print(kwargs)\n",
    "fun1(name=\"xyz\",marks=70)"
   ]
  },
  {
   "cell_type": "markdown",
   "metadata": {},
   "source": [
    "def fun2(list1):\n",
    "    print(\"inside before appending\", list1, id(list1))\n",
    "    list1.append(30)\n",
    "    print(\"After appending\", list1, id(list1))\n",
    "list2=[4,5,6]\n",
    "fun2(list2)\n",
    "print(\"after calling\",list2,id(list2))"
   ]
  },
  {
   "cell_type": "code",
   "execution_count": 19,
   "metadata": {},
   "outputs": [
    {
     "name": "stdout",
     "output_type": "stream",
     "text": [
      "inside before appending [4, 5, 6] 2006325733640\n",
      "After appending [4, 5, 6, 30] 2006325733640\n",
      "after calling [4, 5, 6, 30] 2006325733640\n"
     ]
    }
   ],
   "source": [
    "def fun2(list1):\n",
    "    print(\"inside before appending\", list1, id(list1))\n",
    "    list1.append(30)\n",
    "    print(\"After appending\", list1, id(list1))\n",
    "list2=[4,5,6]\n",
    "fun2(list2)\n",
    "print(\"after calling\",list2,id(list2))"
   ]
  },
  {
   "cell_type": "code",
   "execution_count": 20,
   "metadata": {},
   "outputs": [
    {
     "name": "stdout",
     "output_type": "stream",
     "text": [
      "before 30\n",
      "after 40\n",
      "After append 30\n"
     ]
    }
   ],
   "source": [
    "def fun1(a):\n",
    "    print(\"before\",a)\n",
    "    a=a+10\n",
    "    print(\"after\",a)\n",
    "a=30\n",
    "fun1(a)\n",
    "print(\"After append\",a)"
   ]
  },
  {
   "cell_type": "code",
   "execution_count": null,
   "metadata": {},
   "outputs": [],
   "source": []
  }
 ],
 "metadata": {
  "kernelspec": {
   "display_name": "Python 3",
   "language": "python",
   "name": "python3"
  },
  "language_info": {
   "codemirror_mode": {
    "name": "ipython",
    "version": 3
   },
   "file_extension": ".py",
   "mimetype": "text/x-python",
   "name": "python",
   "nbconvert_exporter": "python",
   "pygments_lexer": "ipython3",
   "version": "3.7.4"
  }
 },
 "nbformat": 4,
 "nbformat_minor": 2
}
